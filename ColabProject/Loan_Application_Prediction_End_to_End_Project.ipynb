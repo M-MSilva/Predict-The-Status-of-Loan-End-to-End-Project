{
  "nbformat": 4,
  "nbformat_minor": 0,
  "metadata": {
    "colab": {
      "name": "Loan Application Prediction - End-to-End Project.ipynb",
      "provenance": [],
      "collapsed_sections": [],
      "authorship_tag": "ABX9TyO1xQA0YG+hFcYI6N6b/5B8",
      "include_colab_link": true
    },
    "kernelspec": {
      "name": "python3",
      "display_name": "Python 3"
    },
    "language_info": {
      "name": "python"
    }
  },
  "cells": [
    {
      "cell_type": "markdown",
      "metadata": {
        "id": "view-in-github",
        "colab_type": "text"
      },
      "source": [
        "<a href=\"https://colab.research.google.com/github/M-MSilva/Predict-The-Status-of-Loan_End-to-End-Project/blob/master/ColabProject/Loan_Application_Prediction_End_to_End_Project.ipynb\" target=\"_parent\"><img src=\"https://colab.research.google.com/assets/colab-badge.svg\" alt=\"Open In Colab\"/></a>"
      ]
    },
    {
      "cell_type": "markdown",
      "metadata": {
        "id": "sff6-kjtlCEb"
      },
      "source": [
        "# Loan Application Prediction - End-to-End Project "
      ]
    },
    {
      "cell_type": "markdown",
      "metadata": {
        "id": "eUCr6UlQgVRI"
      },
      "source": [
        "In this project, we aim to categorize customers who may or may not receive loans, based on information about the customer's conditions."
      ]
    },
    {
      "cell_type": "markdown",
      "metadata": {
        "id": "XHU_wwt5Xteb"
      },
      "source": [
        "## 1 - Requirements"
      ]
    },
    {
      "cell_type": "markdown",
      "source": [
        "First we must import some libraries that we will use throughout the code."
      ],
      "metadata": {
        "id": "bVwEbf8ghf_p"
      }
    },
    {
      "cell_type": "code",
      "metadata": {
        "id": "PRioq7OwVKrx"
      },
      "source": [
        "import pandas as pd\n",
        "\n",
        "from sklearn.model_selection import train_test_split, StratifiedShuffleSplit\n",
        "\n",
        "import matplotlib.pyplot as plt #for the graphics\n",
        "\n",
        "import numpy as np\n",
        "\n",
        "import seaborn as sns\n",
        "\n",
        "import matplotlib as mpl\n",
        "\n",
        "from sklearn.impute import SimpleImputer\n",
        "\n",
        "from sklearn.pipeline import Pipeline\n",
        "\n",
        "from sklearn.preprocessing import StandardScaler\n",
        "\n",
        "%matplotlib inline\n",
        "\n",
        "sns.set_theme()\n",
        "\n"
      ],
      "execution_count": 1,
      "outputs": []
    },
    {
      "cell_type": "markdown",
      "metadata": {
        "id": "cOGzEnntXx7I"
      },
      "source": [
        "## 2 - Get the data"
      ]
    },
    {
      "cell_type": "markdown",
      "source": [
        "We then collect data from the website: https://www.kaggle.com/vipin20/loan-application-data"
      ],
      "metadata": {
        "id": "vpTYVvh8AU70"
      }
    },
    {
      "cell_type": "code",
      "source": [
        "dataset = pd.read_csv('https://raw.githubusercontent.com/M-MSilva/Predict-The-Status-of-Loan-End-to-End-Project/master/Dataset/LOAN.csv',  on_bad_lines='skip',decimal='.', thousands=',',encoding='utf-8')\n",
        "\n"
      ],
      "metadata": {
        "id": "z7ZgRxo6iYmO"
      },
      "execution_count": 2,
      "outputs": []
    },
    {
      "cell_type": "markdown",
      "metadata": {
        "id": "TgWevs4XZhyQ"
      },
      "source": [
        "## 3 - Initial Data Insights"
      ]
    },
    {
      "cell_type": "markdown",
      "source": [
        "Now to better understand the dataframe we must show its first rows."
      ],
      "metadata": {
        "id": "T9_VDEJ_hsg7"
      }
    },
    {
      "cell_type": "code",
      "metadata": {
        "colab": {
          "base_uri": "https://localhost:8080/",
          "height": 288
        },
        "id": "XrYRMoRoZ785",
        "outputId": "3a45934c-3ba2-495b-8116-10118932308d"
      },
      "source": [
        "dataset.head()"
      ],
      "execution_count": 3,
      "outputs": [
        {
          "output_type": "execute_result",
          "data": {
            "text/plain": [
              "    Loan_ID Gender Married Dependents     Education Self_Employed  \\\n",
              "0  LP001002   Male      No          0      Graduate            No   \n",
              "1  LP001003   Male     Yes          1      Graduate            No   \n",
              "2  LP001005   Male     Yes          0      Graduate           Yes   \n",
              "3  LP001006   Male     Yes          0  Not Graduate            No   \n",
              "4  LP001008   Male      No          0      Graduate            No   \n",
              "\n",
              "   ApplicantIncome  CoapplicantIncome  LoanAmount  Loan_Amount_Term  \\\n",
              "0             5849                0.0         NaN             360.0   \n",
              "1             4583             1508.0       128.0             360.0   \n",
              "2             3000                0.0        66.0             360.0   \n",
              "3             2583             2358.0       120.0             360.0   \n",
              "4             6000                0.0       141.0             360.0   \n",
              "\n",
              "   Credit_History Property_Area Loan_Status  \n",
              "0             1.0         Urban           Y  \n",
              "1             1.0         Rural           N  \n",
              "2             1.0         Urban           Y  \n",
              "3             1.0         Urban           Y  \n",
              "4             1.0         Urban           Y  "
            ],
            "text/html": [
              "\n",
              "  <div id=\"df-1b2a085b-d2d7-4945-8999-19db1048d486\">\n",
              "    <div class=\"colab-df-container\">\n",
              "      <div>\n",
              "<style scoped>\n",
              "    .dataframe tbody tr th:only-of-type {\n",
              "        vertical-align: middle;\n",
              "    }\n",
              "\n",
              "    .dataframe tbody tr th {\n",
              "        vertical-align: top;\n",
              "    }\n",
              "\n",
              "    .dataframe thead th {\n",
              "        text-align: right;\n",
              "    }\n",
              "</style>\n",
              "<table border=\"1\" class=\"dataframe\">\n",
              "  <thead>\n",
              "    <tr style=\"text-align: right;\">\n",
              "      <th></th>\n",
              "      <th>Loan_ID</th>\n",
              "      <th>Gender</th>\n",
              "      <th>Married</th>\n",
              "      <th>Dependents</th>\n",
              "      <th>Education</th>\n",
              "      <th>Self_Employed</th>\n",
              "      <th>ApplicantIncome</th>\n",
              "      <th>CoapplicantIncome</th>\n",
              "      <th>LoanAmount</th>\n",
              "      <th>Loan_Amount_Term</th>\n",
              "      <th>Credit_History</th>\n",
              "      <th>Property_Area</th>\n",
              "      <th>Loan_Status</th>\n",
              "    </tr>\n",
              "  </thead>\n",
              "  <tbody>\n",
              "    <tr>\n",
              "      <th>0</th>\n",
              "      <td>LP001002</td>\n",
              "      <td>Male</td>\n",
              "      <td>No</td>\n",
              "      <td>0</td>\n",
              "      <td>Graduate</td>\n",
              "      <td>No</td>\n",
              "      <td>5849</td>\n",
              "      <td>0.0</td>\n",
              "      <td>NaN</td>\n",
              "      <td>360.0</td>\n",
              "      <td>1.0</td>\n",
              "      <td>Urban</td>\n",
              "      <td>Y</td>\n",
              "    </tr>\n",
              "    <tr>\n",
              "      <th>1</th>\n",
              "      <td>LP001003</td>\n",
              "      <td>Male</td>\n",
              "      <td>Yes</td>\n",
              "      <td>1</td>\n",
              "      <td>Graduate</td>\n",
              "      <td>No</td>\n",
              "      <td>4583</td>\n",
              "      <td>1508.0</td>\n",
              "      <td>128.0</td>\n",
              "      <td>360.0</td>\n",
              "      <td>1.0</td>\n",
              "      <td>Rural</td>\n",
              "      <td>N</td>\n",
              "    </tr>\n",
              "    <tr>\n",
              "      <th>2</th>\n",
              "      <td>LP001005</td>\n",
              "      <td>Male</td>\n",
              "      <td>Yes</td>\n",
              "      <td>0</td>\n",
              "      <td>Graduate</td>\n",
              "      <td>Yes</td>\n",
              "      <td>3000</td>\n",
              "      <td>0.0</td>\n",
              "      <td>66.0</td>\n",
              "      <td>360.0</td>\n",
              "      <td>1.0</td>\n",
              "      <td>Urban</td>\n",
              "      <td>Y</td>\n",
              "    </tr>\n",
              "    <tr>\n",
              "      <th>3</th>\n",
              "      <td>LP001006</td>\n",
              "      <td>Male</td>\n",
              "      <td>Yes</td>\n",
              "      <td>0</td>\n",
              "      <td>Not Graduate</td>\n",
              "      <td>No</td>\n",
              "      <td>2583</td>\n",
              "      <td>2358.0</td>\n",
              "      <td>120.0</td>\n",
              "      <td>360.0</td>\n",
              "      <td>1.0</td>\n",
              "      <td>Urban</td>\n",
              "      <td>Y</td>\n",
              "    </tr>\n",
              "    <tr>\n",
              "      <th>4</th>\n",
              "      <td>LP001008</td>\n",
              "      <td>Male</td>\n",
              "      <td>No</td>\n",
              "      <td>0</td>\n",
              "      <td>Graduate</td>\n",
              "      <td>No</td>\n",
              "      <td>6000</td>\n",
              "      <td>0.0</td>\n",
              "      <td>141.0</td>\n",
              "      <td>360.0</td>\n",
              "      <td>1.0</td>\n",
              "      <td>Urban</td>\n",
              "      <td>Y</td>\n",
              "    </tr>\n",
              "  </tbody>\n",
              "</table>\n",
              "</div>\n",
              "      <button class=\"colab-df-convert\" onclick=\"convertToInteractive('df-1b2a085b-d2d7-4945-8999-19db1048d486')\"\n",
              "              title=\"Convert this dataframe to an interactive table.\"\n",
              "              style=\"display:none;\">\n",
              "        \n",
              "  <svg xmlns=\"http://www.w3.org/2000/svg\" height=\"24px\"viewBox=\"0 0 24 24\"\n",
              "       width=\"24px\">\n",
              "    <path d=\"M0 0h24v24H0V0z\" fill=\"none\"/>\n",
              "    <path d=\"M18.56 5.44l.94 2.06.94-2.06 2.06-.94-2.06-.94-.94-2.06-.94 2.06-2.06.94zm-11 1L8.5 8.5l.94-2.06 2.06-.94-2.06-.94L8.5 2.5l-.94 2.06-2.06.94zm10 10l.94 2.06.94-2.06 2.06-.94-2.06-.94-.94-2.06-.94 2.06-2.06.94z\"/><path d=\"M17.41 7.96l-1.37-1.37c-.4-.4-.92-.59-1.43-.59-.52 0-1.04.2-1.43.59L10.3 9.45l-7.72 7.72c-.78.78-.78 2.05 0 2.83L4 21.41c.39.39.9.59 1.41.59.51 0 1.02-.2 1.41-.59l7.78-7.78 2.81-2.81c.8-.78.8-2.07 0-2.86zM5.41 20L4 18.59l7.72-7.72 1.47 1.35L5.41 20z\"/>\n",
              "  </svg>\n",
              "      </button>\n",
              "      \n",
              "  <style>\n",
              "    .colab-df-container {\n",
              "      display:flex;\n",
              "      flex-wrap:wrap;\n",
              "      gap: 12px;\n",
              "    }\n",
              "\n",
              "    .colab-df-convert {\n",
              "      background-color: #E8F0FE;\n",
              "      border: none;\n",
              "      border-radius: 50%;\n",
              "      cursor: pointer;\n",
              "      display: none;\n",
              "      fill: #1967D2;\n",
              "      height: 32px;\n",
              "      padding: 0 0 0 0;\n",
              "      width: 32px;\n",
              "    }\n",
              "\n",
              "    .colab-df-convert:hover {\n",
              "      background-color: #E2EBFA;\n",
              "      box-shadow: 0px 1px 2px rgba(60, 64, 67, 0.3), 0px 1px 3px 1px rgba(60, 64, 67, 0.15);\n",
              "      fill: #174EA6;\n",
              "    }\n",
              "\n",
              "    [theme=dark] .colab-df-convert {\n",
              "      background-color: #3B4455;\n",
              "      fill: #D2E3FC;\n",
              "    }\n",
              "\n",
              "    [theme=dark] .colab-df-convert:hover {\n",
              "      background-color: #434B5C;\n",
              "      box-shadow: 0px 1px 3px 1px rgba(0, 0, 0, 0.15);\n",
              "      filter: drop-shadow(0px 1px 2px rgba(0, 0, 0, 0.3));\n",
              "      fill: #FFFFFF;\n",
              "    }\n",
              "  </style>\n",
              "\n",
              "      <script>\n",
              "        const buttonEl =\n",
              "          document.querySelector('#df-1b2a085b-d2d7-4945-8999-19db1048d486 button.colab-df-convert');\n",
              "        buttonEl.style.display =\n",
              "          google.colab.kernel.accessAllowed ? 'block' : 'none';\n",
              "\n",
              "        async function convertToInteractive(key) {\n",
              "          const element = document.querySelector('#df-1b2a085b-d2d7-4945-8999-19db1048d486');\n",
              "          const dataTable =\n",
              "            await google.colab.kernel.invokeFunction('convertToInteractive',\n",
              "                                                     [key], {});\n",
              "          if (!dataTable) return;\n",
              "\n",
              "          const docLinkHtml = 'Like what you see? Visit the ' +\n",
              "            '<a target=\"_blank\" href=https://colab.research.google.com/notebooks/data_table.ipynb>data table notebook</a>'\n",
              "            + ' to learn more about interactive tables.';\n",
              "          element.innerHTML = '';\n",
              "          dataTable['output_type'] = 'display_data';\n",
              "          await google.colab.output.renderOutput(dataTable, element);\n",
              "          const docLink = document.createElement('div');\n",
              "          docLink.innerHTML = docLinkHtml;\n",
              "          element.appendChild(docLink);\n",
              "        }\n",
              "      </script>\n",
              "    </div>\n",
              "  </div>\n",
              "  "
            ]
          },
          "metadata": {},
          "execution_count": 3
        }
      ]
    },
    {
      "cell_type": "markdown",
      "metadata": {
        "id": "vVPPe7q1aLQJ"
      },
      "source": [
        "In the dataset, each row characterizes an applicant who has 13 attributes. Of these attributes, many are easy to understand, so I have outlined a few:\n",
        "\n",
        "* ApplicantIncome: Applicant's Total Income;\n",
        "* CoapplicantIncome: Income from someone close, which will possibly help the\n",
        "individual pay off the debt;\n",
        "* Loan_Amount_Term: Installments ex: 360 = 12 months;\n",
        "* Credit_History = 1 if the individual has a good credit history, 0 otherwise;\n",
        "* Loan_Status = means whether the loan will be approved or not."
      ]
    },
    {
      "cell_type": "code",
      "metadata": {
        "colab": {
          "base_uri": "https://localhost:8080/"
        },
        "id": "uFUCo_Ct69Kw",
        "outputId": "3a8ce498-e004-40ad-cf09-23ebc7fb4a31"
      },
      "source": [
        "dataset.info()#to have a summary of the data"
      ],
      "execution_count": 4,
      "outputs": [
        {
          "output_type": "stream",
          "name": "stdout",
          "text": [
            "<class 'pandas.core.frame.DataFrame'>\n",
            "RangeIndex: 614 entries, 0 to 613\n",
            "Data columns (total 13 columns):\n",
            " #   Column             Non-Null Count  Dtype  \n",
            "---  ------             --------------  -----  \n",
            " 0   Loan_ID            614 non-null    object \n",
            " 1   Gender             601 non-null    object \n",
            " 2   Married            611 non-null    object \n",
            " 3   Dependents         599 non-null    object \n",
            " 4   Education          614 non-null    object \n",
            " 5   Self_Employed      582 non-null    object \n",
            " 6   ApplicantIncome    614 non-null    int64  \n",
            " 7   CoapplicantIncome  614 non-null    float64\n",
            " 8   LoanAmount         592 non-null    float64\n",
            " 9   Loan_Amount_Term   600 non-null    float64\n",
            " 10  Credit_History     564 non-null    float64\n",
            " 11  Property_Area      614 non-null    object \n",
            " 12  Loan_Status        614 non-null    object \n",
            "dtypes: float64(4), int64(1), object(8)\n",
            "memory usage: 62.5+ KB\n"
          ]
        }
      ]
    },
    {
      "cell_type": "code",
      "metadata": {
        "colab": {
          "base_uri": "https://localhost:8080/",
          "height": 300
        },
        "id": "peQgMPseYxg-",
        "outputId": "8c83832e-f20d-4896-b7d5-de38ac5b0cd3"
      },
      "source": [
        "#statistical information\n",
        "dataset.describe()"
      ],
      "execution_count": 5,
      "outputs": [
        {
          "output_type": "execute_result",
          "data": {
            "text/plain": [
              "       ApplicantIncome  CoapplicantIncome  LoanAmount  Loan_Amount_Term  \\\n",
              "count       614.000000         614.000000  592.000000         600.00000   \n",
              "mean       5403.459283        1621.245798  146.412162         342.00000   \n",
              "std        6109.041673        2926.248369   85.587325          65.12041   \n",
              "min         150.000000           0.000000    9.000000          12.00000   \n",
              "25%        2877.500000           0.000000  100.000000         360.00000   \n",
              "50%        3812.500000        1188.500000  128.000000         360.00000   \n",
              "75%        5795.000000        2297.250000  168.000000         360.00000   \n",
              "max       81000.000000       41667.000000  700.000000         480.00000   \n",
              "\n",
              "       Credit_History  \n",
              "count      564.000000  \n",
              "mean         0.842199  \n",
              "std          0.364878  \n",
              "min          0.000000  \n",
              "25%          1.000000  \n",
              "50%          1.000000  \n",
              "75%          1.000000  \n",
              "max          1.000000  "
            ],
            "text/html": [
              "\n",
              "  <div id=\"df-8ddd4f2c-3d92-41c3-81de-4ce1863b0474\">\n",
              "    <div class=\"colab-df-container\">\n",
              "      <div>\n",
              "<style scoped>\n",
              "    .dataframe tbody tr th:only-of-type {\n",
              "        vertical-align: middle;\n",
              "    }\n",
              "\n",
              "    .dataframe tbody tr th {\n",
              "        vertical-align: top;\n",
              "    }\n",
              "\n",
              "    .dataframe thead th {\n",
              "        text-align: right;\n",
              "    }\n",
              "</style>\n",
              "<table border=\"1\" class=\"dataframe\">\n",
              "  <thead>\n",
              "    <tr style=\"text-align: right;\">\n",
              "      <th></th>\n",
              "      <th>ApplicantIncome</th>\n",
              "      <th>CoapplicantIncome</th>\n",
              "      <th>LoanAmount</th>\n",
              "      <th>Loan_Amount_Term</th>\n",
              "      <th>Credit_History</th>\n",
              "    </tr>\n",
              "  </thead>\n",
              "  <tbody>\n",
              "    <tr>\n",
              "      <th>count</th>\n",
              "      <td>614.000000</td>\n",
              "      <td>614.000000</td>\n",
              "      <td>592.000000</td>\n",
              "      <td>600.00000</td>\n",
              "      <td>564.000000</td>\n",
              "    </tr>\n",
              "    <tr>\n",
              "      <th>mean</th>\n",
              "      <td>5403.459283</td>\n",
              "      <td>1621.245798</td>\n",
              "      <td>146.412162</td>\n",
              "      <td>342.00000</td>\n",
              "      <td>0.842199</td>\n",
              "    </tr>\n",
              "    <tr>\n",
              "      <th>std</th>\n",
              "      <td>6109.041673</td>\n",
              "      <td>2926.248369</td>\n",
              "      <td>85.587325</td>\n",
              "      <td>65.12041</td>\n",
              "      <td>0.364878</td>\n",
              "    </tr>\n",
              "    <tr>\n",
              "      <th>min</th>\n",
              "      <td>150.000000</td>\n",
              "      <td>0.000000</td>\n",
              "      <td>9.000000</td>\n",
              "      <td>12.00000</td>\n",
              "      <td>0.000000</td>\n",
              "    </tr>\n",
              "    <tr>\n",
              "      <th>25%</th>\n",
              "      <td>2877.500000</td>\n",
              "      <td>0.000000</td>\n",
              "      <td>100.000000</td>\n",
              "      <td>360.00000</td>\n",
              "      <td>1.000000</td>\n",
              "    </tr>\n",
              "    <tr>\n",
              "      <th>50%</th>\n",
              "      <td>3812.500000</td>\n",
              "      <td>1188.500000</td>\n",
              "      <td>128.000000</td>\n",
              "      <td>360.00000</td>\n",
              "      <td>1.000000</td>\n",
              "    </tr>\n",
              "    <tr>\n",
              "      <th>75%</th>\n",
              "      <td>5795.000000</td>\n",
              "      <td>2297.250000</td>\n",
              "      <td>168.000000</td>\n",
              "      <td>360.00000</td>\n",
              "      <td>1.000000</td>\n",
              "    </tr>\n",
              "    <tr>\n",
              "      <th>max</th>\n",
              "      <td>81000.000000</td>\n",
              "      <td>41667.000000</td>\n",
              "      <td>700.000000</td>\n",
              "      <td>480.00000</td>\n",
              "      <td>1.000000</td>\n",
              "    </tr>\n",
              "  </tbody>\n",
              "</table>\n",
              "</div>\n",
              "      <button class=\"colab-df-convert\" onclick=\"convertToInteractive('df-8ddd4f2c-3d92-41c3-81de-4ce1863b0474')\"\n",
              "              title=\"Convert this dataframe to an interactive table.\"\n",
              "              style=\"display:none;\">\n",
              "        \n",
              "  <svg xmlns=\"http://www.w3.org/2000/svg\" height=\"24px\"viewBox=\"0 0 24 24\"\n",
              "       width=\"24px\">\n",
              "    <path d=\"M0 0h24v24H0V0z\" fill=\"none\"/>\n",
              "    <path d=\"M18.56 5.44l.94 2.06.94-2.06 2.06-.94-2.06-.94-.94-2.06-.94 2.06-2.06.94zm-11 1L8.5 8.5l.94-2.06 2.06-.94-2.06-.94L8.5 2.5l-.94 2.06-2.06.94zm10 10l.94 2.06.94-2.06 2.06-.94-2.06-.94-.94-2.06-.94 2.06-2.06.94z\"/><path d=\"M17.41 7.96l-1.37-1.37c-.4-.4-.92-.59-1.43-.59-.52 0-1.04.2-1.43.59L10.3 9.45l-7.72 7.72c-.78.78-.78 2.05 0 2.83L4 21.41c.39.39.9.59 1.41.59.51 0 1.02-.2 1.41-.59l7.78-7.78 2.81-2.81c.8-.78.8-2.07 0-2.86zM5.41 20L4 18.59l7.72-7.72 1.47 1.35L5.41 20z\"/>\n",
              "  </svg>\n",
              "      </button>\n",
              "      \n",
              "  <style>\n",
              "    .colab-df-container {\n",
              "      display:flex;\n",
              "      flex-wrap:wrap;\n",
              "      gap: 12px;\n",
              "    }\n",
              "\n",
              "    .colab-df-convert {\n",
              "      background-color: #E8F0FE;\n",
              "      border: none;\n",
              "      border-radius: 50%;\n",
              "      cursor: pointer;\n",
              "      display: none;\n",
              "      fill: #1967D2;\n",
              "      height: 32px;\n",
              "      padding: 0 0 0 0;\n",
              "      width: 32px;\n",
              "    }\n",
              "\n",
              "    .colab-df-convert:hover {\n",
              "      background-color: #E2EBFA;\n",
              "      box-shadow: 0px 1px 2px rgba(60, 64, 67, 0.3), 0px 1px 3px 1px rgba(60, 64, 67, 0.15);\n",
              "      fill: #174EA6;\n",
              "    }\n",
              "\n",
              "    [theme=dark] .colab-df-convert {\n",
              "      background-color: #3B4455;\n",
              "      fill: #D2E3FC;\n",
              "    }\n",
              "\n",
              "    [theme=dark] .colab-df-convert:hover {\n",
              "      background-color: #434B5C;\n",
              "      box-shadow: 0px 1px 3px 1px rgba(0, 0, 0, 0.15);\n",
              "      filter: drop-shadow(0px 1px 2px rgba(0, 0, 0, 0.3));\n",
              "      fill: #FFFFFF;\n",
              "    }\n",
              "  </style>\n",
              "\n",
              "      <script>\n",
              "        const buttonEl =\n",
              "          document.querySelector('#df-8ddd4f2c-3d92-41c3-81de-4ce1863b0474 button.colab-df-convert');\n",
              "        buttonEl.style.display =\n",
              "          google.colab.kernel.accessAllowed ? 'block' : 'none';\n",
              "\n",
              "        async function convertToInteractive(key) {\n",
              "          const element = document.querySelector('#df-8ddd4f2c-3d92-41c3-81de-4ce1863b0474');\n",
              "          const dataTable =\n",
              "            await google.colab.kernel.invokeFunction('convertToInteractive',\n",
              "                                                     [key], {});\n",
              "          if (!dataTable) return;\n",
              "\n",
              "          const docLinkHtml = 'Like what you see? Visit the ' +\n",
              "            '<a target=\"_blank\" href=https://colab.research.google.com/notebooks/data_table.ipynb>data table notebook</a>'\n",
              "            + ' to learn more about interactive tables.';\n",
              "          element.innerHTML = '';\n",
              "          dataTable['output_type'] = 'display_data';\n",
              "          await google.colab.output.renderOutput(dataTable, element);\n",
              "          const docLink = document.createElement('div');\n",
              "          docLink.innerHTML = docLinkHtml;\n",
              "          element.appendChild(docLink);\n",
              "        }\n",
              "      </script>\n",
              "    </div>\n",
              "  </div>\n",
              "  "
            ]
          },
          "metadata": {},
          "execution_count": 5
        }
      ]
    },
    {
      "cell_type": "markdown",
      "source": [
        "## 5 - Understanding the data"
      ],
      "metadata": {
        "id": "hpZRDHt0r58V"
      }
    },
    {
      "cell_type": "markdown",
      "source": [
        "Now let's try to understand the data better and make some assumptions, from graphs extracted from the dataframe data."
      ],
      "metadata": {
        "id": "ClG_3Z5dhJA2"
      }
    },
    {
      "cell_type": "code",
      "source": [
        "cmap = mpl.cm.Dark2\n",
        "\n",
        "listA = ['ApplicantIncome','CoapplicantIncome','LoanAmount','Loan_Amount_Term']\n",
        "fig=plt.figure(figsize=(12, 8))\n",
        "\n",
        "\n",
        "for i, x in enumerate(listA):\n",
        "  ax=fig.add_subplot(2,2,i+1)\n",
        "  dataset[x].hist(bins=50,ax=ax,color=cmap(i/ float((i + 1))))\n",
        "  if(x == 'Loan_Amount_Term'):\n",
        "    ax.set_xlabel('Days')\n",
        "  else:\n",
        "    ax.set_xlabel('₹')\n",
        "  ax.set_ylabel('Frequency Density')\n",
        "  ax.set_title(x)\n",
        "fig.tight_layout()\n",
        "plt.show()"
      ],
      "metadata": {
        "id": "MGwGnCI3iiwQ",
        "colab": {
          "base_uri": "https://localhost:8080/",
          "height": 585
        },
        "outputId": "860f0966-acad-4451-ef33-de66300b1448"
      },
      "execution_count": 6,
      "outputs": [
        {
          "output_type": "display_data",
          "data": {
            "text/plain": [
              "<Figure size 864x576 with 4 Axes>"
            ],
            "image/png": "[encoded data removed]"
          },
          "metadata": {
            "needs_background": "light"
          }
        }
      ]
    },
    {
      "cell_type": "markdown",
      "source": [
        "In the graphs above we notice that the highest occurrences for Applicant's Income, Coapplicant's Income, Loan Amount, Term of Loan Amount are respectively ₹ 200,  ₹ 100, ₹ 120,  370 days approximately. The important thing to ask is, are people who have a higher income, or who apply for a higher loan amount, more likely to receive the loan ?"
      ],
      "metadata": {
        "id": "JBTaJ0FngRZK"
      }
    },
    {
      "cell_type": "markdown",
      "source": [
        "Also, in our data data an interesting thing is that we have a lot of categorical data, so we'll see what we can get from that."
      ],
      "metadata": {
        "id": "hlBALAfB78IN"
      }
    },
    {
      "cell_type": "code",
      "source": [
        "cmap2 = mpl.cm.tab20\n",
        "\n",
        "listFirst = ['Property_Area','Married','Dependents','Education','Self_Employed','Gender']\n",
        "\n",
        "fig=plt.figure(figsize=(10,8))\n",
        "\n",
        "for i, col in enumerate(listFirst):\n",
        "  ax=fig.add_subplot(3,3,i+1)\n",
        "  plt.xlabel('Number of Occurrences')\n",
        "  plt.ylabel('Categories')\n",
        "  valuec = dataset[col].value_counts().plot(kind='barh',title=col,color=cmap2(i/ float((i + 5))),grid=True,ax=ax)\n",
        "  plt.subplots_adjust(left=0.125,\n",
        "                    bottom=0.1, \n",
        "                    right=1.4, \n",
        "                    top=1.35, \n",
        "                    wspace=0.4, \n",
        "                    hspace=0.35)\n",
        "plt.show()"
      ],
      "metadata": {
        "colab": {
          "base_uri": "https://localhost:8080/",
          "height": 541
        },
        "id": "TnZAlBNUwW2S",
        "outputId": "29f699b2-a1e6-4a16-dfc2-ff79c7e1a2c0"
      },
      "execution_count": 7,
      "outputs": [
        {
          "output_type": "display_data",
          "data": {
            "text/plain": [
              "<Figure size 720x576 with 6 Axes>"
            ],
            "image/png": "[encoded data removed]"
          },
          "metadata": {
            "needs_background": "light"
          }
        }
      ]
    },
    {
      "cell_type": "markdown",
      "source": [
        "In these data we have, for example 233 people living in Semi-Urban areas, 202 people living in Urban areas and 179 cities living in Rural areas. In this way, another important issue comes into play. People who live in what type of area are most likely to receive a loan? This question and the previous one we will investigate in this project.\n",
        "\n",
        "\n"
      ],
      "metadata": {
        "id": "9hahtHpL09kJ"
      }
    },
    {
      "cell_type": "markdown",
      "source": [
        "## 6 - Stratified Sampling:"
      ],
      "metadata": {
        "id": "N_ViPR45CwiG"
      }
    },
    {
      "cell_type": "markdown",
      "source": [
        "To perform the stratified population, we take subpopulations of a population and use the slicing method to subdivide the data. Stratification must be done, because if our dataset has a lot of data of a single type, our model may notice some wrong trend. But first we need to know which is the highest income and the lowest income:\n"
      ],
      "metadata": {
        "id": "6IK9WEKhpS0w"
      }
    },
    {
      "cell_type": "code",
      "source": [
        "print('Maximum : ₹ ', max(dataset['ApplicantIncome']))\n",
        "print('Minimum : ₹ ', min(dataset['ApplicantIncome']))"
      ],
      "metadata": {
        "colab": {
          "base_uri": "https://localhost:8080/"
        },
        "id": "xvO8dRbKW8p-",
        "outputId": "fe8cc805-7b95-4982-d1e1-f28cb5c1fa00"
      },
      "execution_count": 8,
      "outputs": [
        {
          "output_type": "stream",
          "name": "stdout",
          "text": [
            "Maximum : ₹  81000\n",
            "Minimum : ₹  150\n"
          ]
        }
      ]
    },
    {
      "cell_type": "markdown",
      "source": [
        "we change some null data"
      ],
      "metadata": {
        "id": "LO2hhAdX6aQv"
      }
    },
    {
      "cell_type": "code",
      "source": [
        "\n",
        "dataset['Credit_History'].fillna(dataset['Credit_History'].median(),inplace = True)\n",
        "dataset.isnull().sum()"
      ],
      "metadata": {
        "colab": {
          "base_uri": "https://localhost:8080/"
        },
        "id": "pGt1V41A6XN-",
        "outputId": "0d04e82a-2f2d-4adc-9c0c-a635cc7d091e"
      },
      "execution_count": 9,
      "outputs": [
        {
          "output_type": "execute_result",
          "data": {
            "text/plain": [
              "Loan_ID               0\n",
              "Gender               13\n",
              "Married               3\n",
              "Dependents           15\n",
              "Education             0\n",
              "Self_Employed        32\n",
              "ApplicantIncome       0\n",
              "CoapplicantIncome     0\n",
              "LoanAmount           22\n",
              "Loan_Amount_Term     14\n",
              "Credit_History        0\n",
              "Property_Area         0\n",
              "Loan_Status           0\n",
              "dtype: int64"
            ]
          },
          "metadata": {},
          "execution_count": 9
        }
      ]
    },
    {
      "cell_type": "markdown",
      "source": [
        "We use the cut method and plot its content."
      ],
      "metadata": {
        "id": "ZWQKheE7lUHh"
      }
    },
    {
      "cell_type": "code",
      "source": [
        "dataset[\"hist_cat\"] = pd.cut(dataset[\"Credit_History\"],\n",
        "                               bins=[-1,0.5,1.5],\n",
        "                               labels=[0,1])\n",
        "\n",
        "plt.xlabel('Categories of Income')\n",
        "plt.ylabel('Frequency Density')\n",
        "plt.title('Category Histograms For each Income')\n",
        "dataset['hist_cat'].hist(color='tomato')\n",
        "plt.show()"
      ],
      "metadata": {
        "id": "ZfAs2VCwpRQ6",
        "colab": {
          "base_uri": "https://localhost:8080/",
          "height": 301
        },
        "outputId": "733941a8-6839-440e-b1c6-7cf48535216a"
      },
      "execution_count": 10,
      "outputs": [
        {
          "output_type": "display_data",
          "data": {
            "text/plain": [
              "<Figure size 432x288 with 1 Axes>"
            ],
            "image/png": "[encoded data removed]"
          },
          "metadata": {
            "needs_background": "light"
          }
        }
      ]
    },
    {
      "cell_type": "markdown",
      "source": [
        "After breaking down the populations, we actually performed the stratification."
      ],
      "metadata": {
        "id": "wRwDytYXls1k"
      }
    },
    {
      "cell_type": "code",
      "source": [
        "dataset.replace({'Loan_Status':{'Y': 1, 'N':0}},inplace=True)# I need to do this\n",
        "\n",
        "from sklearn.model_selection import StratifiedShuffleSplit\n",
        "\n",
        "split = StratifiedShuffleSplit(n_splits=1, test_size=0.2, random_state=42)\n",
        "for train_index, test_index in split.split(dataset, dataset[\"hist_cat\"]):\n",
        "    strat_train_set = dataset.iloc[train_index]\n",
        "    strat_test_set = dataset.iloc[test_index]"
      ],
      "metadata": {
        "id": "tKPzLZm3lQZa"
      },
      "execution_count": 11,
      "outputs": []
    },
    {
      "cell_type": "markdown",
      "source": [
        "To check the consistency of our stratification we make the comparison:"
      ],
      "metadata": {
        "id": "YIuK-2aN52k1"
      }
    },
    {
      "cell_type": "code",
      "source": [
        "print(strat_train_set['hist_cat'].value_counts()/len(strat_train_set))"
      ],
      "metadata": {
        "id": "ktFEksDZdBLk",
        "colab": {
          "base_uri": "https://localhost:8080/"
        },
        "outputId": "fb0047a1-3059-48b9-9129-92b956ee6faf"
      },
      "execution_count": 12,
      "outputs": [
        {
          "output_type": "stream",
          "name": "stdout",
          "text": [
            "1    0.855397\n",
            "0    0.144603\n",
            "Name: hist_cat, dtype: float64\n"
          ]
        }
      ]
    },
    {
      "cell_type": "code",
      "source": [
        "print(dataset['hist_cat'].value_counts()/len(dataset))"
      ],
      "metadata": {
        "id": "1ayMoH-F5SYx",
        "colab": {
          "base_uri": "https://localhost:8080/"
        },
        "outputId": "87254078-23db-46fb-e54b-55671e83e93c"
      },
      "execution_count": 13,
      "outputs": [
        {
          "output_type": "stream",
          "name": "stdout",
          "text": [
            "1    0.855049\n",
            "0    0.144951\n",
            "Name: hist_cat, dtype: float64\n"
          ]
        }
      ]
    },
    {
      "cell_type": "markdown",
      "source": [
        "and we noticed a consistency in the results."
      ],
      "metadata": {
        "id": "aCBqpradCb1V"
      }
    },
    {
      "cell_type": "markdown",
      "source": [
        "## 7 - Returning the data to the original state"
      ],
      "metadata": {
        "id": "7xbZ0Nfe98TF"
      }
    },
    {
      "cell_type": "code",
      "source": [
        "import warnings\n",
        "warnings.filterwarnings(\"ignore\")\n",
        "\n",
        "\n",
        "strat_train_set.drop('hist_cat',axis=1, inplace=True)\n",
        "strat_test_set.drop('hist_cat',axis=1, inplace=True)"
      ],
      "metadata": {
        "id": "bfUyIsMo-UDF"
      },
      "execution_count": 14,
      "outputs": []
    },
    {
      "cell_type": "markdown",
      "source": [
        "## 8 - Data Visualization"
      ],
      "metadata": {
        "id": "R9qKXWFQHu8I"
      }
    },
    {
      "cell_type": "markdown",
      "source": [
        "To better interpret the concepts and notice patterns, let's visualize the data, which will also help us understand the possible decisions of our algorithm."
      ],
      "metadata": {
        "id": "qHTwpYmBC9zn"
      }
    },
    {
      "cell_type": "code",
      "source": [
        "dataset = strat_train_set.copy()\n",
        "\n",
        "listaB = ['Gender','Married','Dependents','Education','Self_Employed','Property_Area','Credit_History','Loan_Amount_Term']\n",
        "\n",
        "fig=plt.figure(figsize=(20, 14))\n",
        "\n",
        "for i, col in enumerate(listaB):\n",
        "  ax=fig.add_subplot(4,4,i+1)\n",
        "  sns.countplot(x=col,hue='Loan_Status', data=dataset, ax=ax)\n",
        "fig.tight_layout()\n",
        "plt.show()"
      ],
      "metadata": {
        "id": "qoMcFGC5MV5S",
        "colab": {
          "base_uri": "https://localhost:8080/",
          "height": 469
        },
        "outputId": "f20c09cb-eba8-4ba6-e664-29e93750dd33"
      },
      "execution_count": 15,
      "outputs": [
        {
          "output_type": "display_data",
          "data": {
            "text/plain": [
              "<Figure size 1440x1008 with 8 Axes>"
            ],
            "image/png": "[encoded data removed]"
          },
          "metadata": {
            "needs_background": "light"
          }
        }
      ]
    },
    {
      "cell_type": "markdown",
      "source": [
        "The graph above is self-explanatory, it seems to indicate that married, childless, college-educated, non-self-employed men who live in semi-urban areas, who have a good credit history and who make 360-day payments are supposedly more likely to receive loans."
      ],
      "metadata": {
        "id": "NT1AgfiM-aE5"
      }
    },
    {
      "cell_type": "markdown",
      "source": [
        "Above we find a supposed answer to one of our questions raised in section 5, the other question asked outside whether there is any relationship between the applicant's income and the possibility of receiving loans. To speculate this question, we are going to plot a pairplot plot, which relates two variables simultaneously, in addition, we are going to distinguish in this data those who receive loans and those who do not.\n"
      ],
      "metadata": {
        "id": "Jq0VStFsYyMG"
      }
    },
    {
      "cell_type": "code",
      "source": [
        "selected_columns = dataset[['ApplicantIncome','CoapplicantIncome','LoanAmount','Loan_Status']]\n",
        "\n",
        "DATA2 = selected_columns.copy()\n",
        "\n",
        "sns.pairplot(data=DATA2, hue=\"Loan_Status\",height=3)\n",
        "plt.show()"
      ],
      "metadata": {
        "id": "eYivHFY-HfQy",
        "colab": {
          "base_uri": "https://localhost:8080/",
          "height": 656
        },
        "outputId": "c7efec34-2cac-4679-b922-124940d09b6c"
      },
      "execution_count": 16,
      "outputs": [
        {
          "output_type": "display_data",
          "data": {
            "text/plain": [
              "<Figure size 730.05x648 with 12 Axes>"
            ],
            "image/png": "[encoded data removed]"
          },
          "metadata": {
            "needs_background": "light"
          }
        }
      ]
    },
    {
      "cell_type": "markdown",
      "source": [
        "From the graph above, it appears that for smaller amounts of applicant income, the co-applicant and loan amount are those that are usually approved for loan. Despite this, we cannot claim anything, as it may be that people with higher incomes do not take out loans, or our data lack information about this type of population. Maybe later we'll say something."
      ],
      "metadata": {
        "id": "Hu6015tKrJMi"
      }
    },
    {
      "cell_type": "markdown",
      "source": [
        "Since the graph above didn't make any good statements, let's now plot a heatmap graph by re-correlating two data points and using a third ApplicantIncome value to tell us the magnitude of the Applicant Income for each bi-value. For example, in the chart below we can see the Applicant Income of women and men and whether they are married or not."
      ],
      "metadata": {
        "id": "wGHTrW5QXWbX"
      }
    },
    {
      "cell_type": "code",
      "source": [
        "List1 = ['Gender','Dependents','Loan_Amount_Term','Self_Employed']\n",
        "List2 = ['Married','Education','Credit_History','Property_Area']\n",
        "\n",
        "num = [0,1,2,3]\n",
        "\n",
        "fig=plt.figure(figsize=(12, 10))\n",
        "for (z,j,k) in zip(num,List1 ,List2):                   \n",
        "  infos = dataset.pivot_table(index=j,columns=k,values=\"ApplicantIncome\")\n",
        "  ax=fig.add_subplot(2,2,z+1)\n",
        "  sns.heatmap(infos, annot=True, fmt='.2f', linewidths=.5, ax=ax,cmap=plt.get_cmap(\"magma\"))"
      ],
      "metadata": {
        "id": "ZlQIkJTub2F9",
        "colab": {
          "base_uri": "https://localhost:8080/",
          "height": 611
        },
        "outputId": "f8c97350-3ce4-4ba5-ce94-efff75dec4d0"
      },
      "execution_count": 17,
      "outputs": [
        {
          "output_type": "display_data",
          "data": {
            "text/plain": [
              "<Figure size 864x720 with 8 Axes>"
            ],
            "image/png": "[encoded data removed]"
          },
          "metadata": {
            "needs_background": "light"
          }
        }
      ]
    },
    {
      "cell_type": "markdown",
      "source": [
        "To make the assumptions, let's look at some information from Applicant Income:"
      ],
      "metadata": {
        "id": "v17YS6S7HTi0"
      }
    },
    {
      "cell_type": "code",
      "source": [
        "dataset['ApplicantIncome'].describe()"
      ],
      "metadata": {
        "id": "po-bgBgaHeAj",
        "colab": {
          "base_uri": "https://localhost:8080/"
        },
        "outputId": "23a6e45c-00fa-4cc2-e5d6-845a65d18364"
      },
      "execution_count": 18,
      "outputs": [
        {
          "output_type": "execute_result",
          "data": {
            "text/plain": [
              "count      491.000000\n",
              "mean      5439.002037\n",
              "std       6307.141778\n",
              "min        210.000000\n",
              "25%       2816.000000\n",
              "50%       3813.000000\n",
              "75%       5818.500000\n",
              "max      81000.000000\n",
              "Name: ApplicantIncome, dtype: float64"
            ]
          },
          "metadata": {},
          "execution_count": 18
        }
      ]
    },
    {
      "cell_type": "markdown",
      "source": [
        "Based on this information and the graph above, we note that some married men, people without children and graduates, individuals who request a lot of tuition with a good track record and people who are not self-employed, who live in semi-urban areas have incomes below the average ~ ₹ 5255.00 are more likely to receive a loan. From our first graph in section 7, we understand that these groups surveyed here would likely receive credit, as these groups fall into positive credit status. While these groups of people with below-average incomes indicate a likely certainty of receiving credit, the only certainty we can have will be with the implementation of the machine learning model, but these insights are precious."
      ],
      "metadata": {
        "id": "oEVm7Ry7Rz8k"
      }
    },
    {
      "cell_type": "markdown",
      "source": [
        "## 9 - Exploratory Data Analysis and Feature Engineering"
      ],
      "metadata": {
        "id": "pnNkWudxeef-"
      }
    },
    {
      "cell_type": "markdown",
      "source": [
        "### 9.1 Search for Correlations"
      ],
      "metadata": {
        "id": "n3RfSZgcLCxz"
      }
    },
    {
      "cell_type": "markdown",
      "source": [
        "Let's now concern ourselves in how variables depend on each other in our dataset. To measure the correlation coefficient we will use the corr() method."
      ],
      "metadata": {
        "id": "eDMS8xZ8L1nz"
      }
    },
    {
      "cell_type": "code",
      "source": [
        "dataset2 = dataset.copy()\n",
        "dataset2.replace({'Married':{'No':0,'Yes':1},'Gender':{'Male':1,'Female':0},'Self_Employed':{'No':0,'Yes':1},\n",
        "                 'Property_Area':{'Rural':1,'Urban':2,'Semiurban':3},\n",
        "                 'Education':{'Graduate':1,'Not Graduate':0}, 'Loan_Status':{'Y': 1, 'N':0}},inplace=True)\n",
        "\n",
        "\n",
        "dataset2 = dataset2.replace(to_replace='3+', value=4)"
      ],
      "metadata": {
        "id": "6FAZcwaoyAkZ"
      },
      "execution_count": 19,
      "outputs": []
    },
    {
      "cell_type": "code",
      "source": [
        "Matrix_corr = dataset2.corr()\n",
        "Matrix_corr"
      ],
      "metadata": {
        "id": "2v5AgGe-LCL6",
        "colab": {
          "base_uri": "https://localhost:8080/",
          "height": 458
        },
        "outputId": "1501c610-96c4-4dec-f76d-acfcd3dc6bf9"
      },
      "execution_count": 20,
      "outputs": [
        {
          "output_type": "execute_result",
          "data": {
            "text/plain": [
              "                     Gender   Married  Education  Self_Employed  \\\n",
              "Gender             1.000000  0.405722  -0.053269      -0.014490   \n",
              "Married            0.405722  1.000000   0.006427       0.011515   \n",
              "Education         -0.053269  0.006427   1.000000       0.028888   \n",
              "Self_Employed     -0.014490  0.011515   0.028888       1.000000   \n",
              "ApplicantIncome    0.040490  0.034075   0.145866       0.149926   \n",
              "CoapplicantIncome  0.073181  0.122165   0.074011      -0.003826   \n",
              "LoanAmount         0.110275  0.160827   0.184780       0.141674   \n",
              "Loan_Amount_Term  -0.069321 -0.076085   0.048278      -0.041347   \n",
              "Credit_History     0.018734 -0.003450   0.103074      -0.012250   \n",
              "Property_Area     -0.135409 -0.044300   0.094496      -0.015482   \n",
              "Loan_Status        0.022654  0.058268   0.119663       0.009393   \n",
              "\n",
              "                   ApplicantIncome  CoapplicantIncome  LoanAmount  \\\n",
              "Gender                    0.040490           0.073181    0.110275   \n",
              "Married                   0.034075           0.122165    0.160827   \n",
              "Education                 0.145866           0.074011    0.184780   \n",
              "Self_Employed             0.149926          -0.003826    0.141674   \n",
              "ApplicantIncome           1.000000          -0.105970    0.535478   \n",
              "CoapplicantIncome        -0.105970           1.000000    0.261148   \n",
              "LoanAmount                0.535478           0.261148    1.000000   \n",
              "Loan_Amount_Term         -0.018667          -0.073385    0.072627   \n",
              "Credit_History           -0.000197          -0.012770    0.003466   \n",
              "Property_Area            -0.029237          -0.024275   -0.037761   \n",
              "Loan_Status               0.010046          -0.056199   -0.031169   \n",
              "\n",
              "                   Loan_Amount_Term  Credit_History  Property_Area  \\\n",
              "Gender                    -0.069321        0.018734      -0.135409   \n",
              "Married                   -0.076085       -0.003450      -0.044300   \n",
              "Education                  0.048278        0.103074       0.094496   \n",
              "Self_Employed             -0.041347       -0.012250      -0.015482   \n",
              "ApplicantIncome           -0.018667       -0.000197      -0.029237   \n",
              "CoapplicantIncome         -0.073385       -0.012770      -0.024275   \n",
              "LoanAmount                 0.072627        0.003466      -0.037761   \n",
              "Loan_Amount_Term           1.000000       -0.005122       0.017711   \n",
              "Credit_History            -0.005122        1.000000       0.057408   \n",
              "Property_Area              0.017711        0.057408       1.000000   \n",
              "Loan_Status               -0.002759        0.547335       0.157239   \n",
              "\n",
              "                   Loan_Status  \n",
              "Gender                0.022654  \n",
              "Married               0.058268  \n",
              "Education             0.119663  \n",
              "Self_Employed         0.009393  \n",
              "ApplicantIncome       0.010046  \n",
              "CoapplicantIncome    -0.056199  \n",
              "LoanAmount           -0.031169  \n",
              "Loan_Amount_Term     -0.002759  \n",
              "Credit_History        0.547335  \n",
              "Property_Area         0.157239  \n",
              "Loan_Status           1.000000  "
            ],
            "text/html": [
              "\n",
              "  <div id=\"df-20533a43-d582-4715-85ae-9f4c31c92b1e\">\n",
              "    <div class=\"colab-df-container\">\n",
              "      <div>\n",
              "<style scoped>\n",
              "    .dataframe tbody tr th:only-of-type {\n",
              "        vertical-align: middle;\n",
              "    }\n",
              "\n",
              "    .dataframe tbody tr th {\n",
              "        vertical-align: top;\n",
              "    }\n",
              "\n",
              "    .dataframe thead th {\n",
              "        text-align: right;\n",
              "    }\n",
              "</style>\n",
              "<table border=\"1\" class=\"dataframe\">\n",
              "  <thead>\n",
              "    <tr style=\"text-align: right;\">\n",
              "      <th></th>\n",
              "      <th>Gender</th>\n",
              "      <th>Married</th>\n",
              "      <th>Education</th>\n",
              "      <th>Self_Employed</th>\n",
              "      <th>ApplicantIncome</th>\n",
              "      <th>CoapplicantIncome</th>\n",
              "      <th>LoanAmount</th>\n",
              "      <th>Loan_Amount_Term</th>\n",
              "      <th>Credit_History</th>\n",
              "      <th>Property_Area</th>\n",
              "      <th>Loan_Status</th>\n",
              "    </tr>\n",
              "  </thead>\n",
              "  <tbody>\n",
              "    <tr>\n",
              "      <th>Gender</th>\n",
              "      <td>1.000000</td>\n",
              "      <td>0.405722</td>\n",
              "      <td>-0.053269</td>\n",
              "      <td>-0.014490</td>\n",
              "      <td>0.040490</td>\n",
              "      <td>0.073181</td>\n",
              "      <td>0.110275</td>\n",
              "      <td>-0.069321</td>\n",
              "      <td>0.018734</td>\n",
              "      <td>-0.135409</td>\n",
              "      <td>0.022654</td>\n",
              "    </tr>\n",
              "    <tr>\n",
              "      <th>Married</th>\n",
              "      <td>0.405722</td>\n",
              "      <td>1.000000</td>\n",
              "      <td>0.006427</td>\n",
              "      <td>0.011515</td>\n",
              "      <td>0.034075</td>\n",
              "      <td>0.122165</td>\n",
              "      <td>0.160827</td>\n",
              "      <td>-0.076085</td>\n",
              "      <td>-0.003450</td>\n",
              "      <td>-0.044300</td>\n",
              "      <td>0.058268</td>\n",
              "    </tr>\n",
              "    <tr>\n",
              "      <th>Education</th>\n",
              "      <td>-0.053269</td>\n",
              "      <td>0.006427</td>\n",
              "      <td>1.000000</td>\n",
              "      <td>0.028888</td>\n",
              "      <td>0.145866</td>\n",
              "      <td>0.074011</td>\n",
              "      <td>0.184780</td>\n",
              "      <td>0.048278</td>\n",
              "      <td>0.103074</td>\n",
              "      <td>0.094496</td>\n",
              "      <td>0.119663</td>\n",
              "    </tr>\n",
              "    <tr>\n",
              "      <th>Self_Employed</th>\n",
              "      <td>-0.014490</td>\n",
              "      <td>0.011515</td>\n",
              "      <td>0.028888</td>\n",
              "      <td>1.000000</td>\n",
              "      <td>0.149926</td>\n",
              "      <td>-0.003826</td>\n",
              "      <td>0.141674</td>\n",
              "      <td>-0.041347</td>\n",
              "      <td>-0.012250</td>\n",
              "      <td>-0.015482</td>\n",
              "      <td>0.009393</td>\n",
              "    </tr>\n",
              "    <tr>\n",
              "      <th>ApplicantIncome</th>\n",
              "      <td>0.040490</td>\n",
              "      <td>0.034075</td>\n",
              "      <td>0.145866</td>\n",
              "      <td>0.149926</td>\n",
              "      <td>1.000000</td>\n",
              "      <td>-0.105970</td>\n",
              "      <td>0.535478</td>\n",
              "      <td>-0.018667</td>\n",
              "      <td>-0.000197</td>\n",
              "      <td>-0.029237</td>\n",
              "      <td>0.010046</td>\n",
              "    </tr>\n",
              "    <tr>\n",
              "      <th>CoapplicantIncome</th>\n",
              "      <td>0.073181</td>\n",
              "      <td>0.122165</td>\n",
              "      <td>0.074011</td>\n",
              "      <td>-0.003826</td>\n",
              "      <td>-0.105970</td>\n",
              "      <td>1.000000</td>\n",
              "      <td>0.261148</td>\n",
              "      <td>-0.073385</td>\n",
              "      <td>-0.012770</td>\n",
              "      <td>-0.024275</td>\n",
              "      <td>-0.056199</td>\n",
              "    </tr>\n",
              "    <tr>\n",
              "      <th>LoanAmount</th>\n",
              "      <td>0.110275</td>\n",
              "      <td>0.160827</td>\n",
              "      <td>0.184780</td>\n",
              "      <td>0.141674</td>\n",
              "      <td>0.535478</td>\n",
              "      <td>0.261148</td>\n",
              "      <td>1.000000</td>\n",
              "      <td>0.072627</td>\n",
              "      <td>0.003466</td>\n",
              "      <td>-0.037761</td>\n",
              "      <td>-0.031169</td>\n",
              "    </tr>\n",
              "    <tr>\n",
              "      <th>Loan_Amount_Term</th>\n",
              "      <td>-0.069321</td>\n",
              "      <td>-0.076085</td>\n",
              "      <td>0.048278</td>\n",
              "      <td>-0.041347</td>\n",
              "      <td>-0.018667</td>\n",
              "      <td>-0.073385</td>\n",
              "      <td>0.072627</td>\n",
              "      <td>1.000000</td>\n",
              "      <td>-0.005122</td>\n",
              "      <td>0.017711</td>\n",
              "      <td>-0.002759</td>\n",
              "    </tr>\n",
              "    <tr>\n",
              "      <th>Credit_History</th>\n",
              "      <td>0.018734</td>\n",
              "      <td>-0.003450</td>\n",
              "      <td>0.103074</td>\n",
              "      <td>-0.012250</td>\n",
              "      <td>-0.000197</td>\n",
              "      <td>-0.012770</td>\n",
              "      <td>0.003466</td>\n",
              "      <td>-0.005122</td>\n",
              "      <td>1.000000</td>\n",
              "      <td>0.057408</td>\n",
              "      <td>0.547335</td>\n",
              "    </tr>\n",
              "    <tr>\n",
              "      <th>Property_Area</th>\n",
              "      <td>-0.135409</td>\n",
              "      <td>-0.044300</td>\n",
              "      <td>0.094496</td>\n",
              "      <td>-0.015482</td>\n",
              "      <td>-0.029237</td>\n",
              "      <td>-0.024275</td>\n",
              "      <td>-0.037761</td>\n",
              "      <td>0.017711</td>\n",
              "      <td>0.057408</td>\n",
              "      <td>1.000000</td>\n",
              "      <td>0.157239</td>\n",
              "    </tr>\n",
              "    <tr>\n",
              "      <th>Loan_Status</th>\n",
              "      <td>0.022654</td>\n",
              "      <td>0.058268</td>\n",
              "      <td>0.119663</td>\n",
              "      <td>0.009393</td>\n",
              "      <td>0.010046</td>\n",
              "      <td>-0.056199</td>\n",
              "      <td>-0.031169</td>\n",
              "      <td>-0.002759</td>\n",
              "      <td>0.547335</td>\n",
              "      <td>0.157239</td>\n",
              "      <td>1.000000</td>\n",
              "    </tr>\n",
              "  </tbody>\n",
              "</table>\n",
              "</div>\n",
              "      <button class=\"colab-df-convert\" onclick=\"convertToInteractive('df-20533a43-d582-4715-85ae-9f4c31c92b1e')\"\n",
              "              title=\"Convert this dataframe to an interactive table.\"\n",
              "              style=\"display:none;\">\n",
              "        \n",
              "  <svg xmlns=\"http://www.w3.org/2000/svg\" height=\"24px\"viewBox=\"0 0 24 24\"\n",
              "       width=\"24px\">\n",
              "    <path d=\"M0 0h24v24H0V0z\" fill=\"none\"/>\n",
              "    <path d=\"M18.56 5.44l.94 2.06.94-2.06 2.06-.94-2.06-.94-.94-2.06-.94 2.06-2.06.94zm-11 1L8.5 8.5l.94-2.06 2.06-.94-2.06-.94L8.5 2.5l-.94 2.06-2.06.94zm10 10l.94 2.06.94-2.06 2.06-.94-2.06-.94-.94-2.06-.94 2.06-2.06.94z\"/><path d=\"M17.41 7.96l-1.37-1.37c-.4-.4-.92-.59-1.43-.59-.52 0-1.04.2-1.43.59L10.3 9.45l-7.72 7.72c-.78.78-.78 2.05 0 2.83L4 21.41c.39.39.9.59 1.41.59.51 0 1.02-.2 1.41-.59l7.78-7.78 2.81-2.81c.8-.78.8-2.07 0-2.86zM5.41 20L4 18.59l7.72-7.72 1.47 1.35L5.41 20z\"/>\n",
              "  </svg>\n",
              "      </button>\n",
              "      \n",
              "  <style>\n",
              "    .colab-df-container {\n",
              "      display:flex;\n",
              "      flex-wrap:wrap;\n",
              "      gap: 12px;\n",
              "    }\n",
              "\n",
              "    .colab-df-convert {\n",
              "      background-color: #E8F0FE;\n",
              "      border: none;\n",
              "      border-radius: 50%;\n",
              "      cursor: pointer;\n",
              "      display: none;\n",
              "      fill: #1967D2;\n",
              "      height: 32px;\n",
              "      padding: 0 0 0 0;\n",
              "      width: 32px;\n",
              "    }\n",
              "\n",
              "    .colab-df-convert:hover {\n",
              "      background-color: #E2EBFA;\n",
              "      box-shadow: 0px 1px 2px rgba(60, 64, 67, 0.3), 0px 1px 3px 1px rgba(60, 64, 67, 0.15);\n",
              "      fill: #174EA6;\n",
              "    }\n",
              "\n",
              "    [theme=dark] .colab-df-convert {\n",
              "      background-color: #3B4455;\n",
              "      fill: #D2E3FC;\n",
              "    }\n",
              "\n",
              "    [theme=dark] .colab-df-convert:hover {\n",
              "      background-color: #434B5C;\n",
              "      box-shadow: 0px 1px 3px 1px rgba(0, 0, 0, 0.15);\n",
              "      filter: drop-shadow(0px 1px 2px rgba(0, 0, 0, 0.3));\n",
              "      fill: #FFFFFF;\n",
              "    }\n",
              "  </style>\n",
              "\n",
              "      <script>\n",
              "        const buttonEl =\n",
              "          document.querySelector('#df-20533a43-d582-4715-85ae-9f4c31c92b1e button.colab-df-convert');\n",
              "        buttonEl.style.display =\n",
              "          google.colab.kernel.accessAllowed ? 'block' : 'none';\n",
              "\n",
              "        async function convertToInteractive(key) {\n",
              "          const element = document.querySelector('#df-20533a43-d582-4715-85ae-9f4c31c92b1e');\n",
              "          const dataTable =\n",
              "            await google.colab.kernel.invokeFunction('convertToInteractive',\n",
              "                                                     [key], {});\n",
              "          if (!dataTable) return;\n",
              "\n",
              "          const docLinkHtml = 'Like what you see? Visit the ' +\n",
              "            '<a target=\"_blank\" href=https://colab.research.google.com/notebooks/data_table.ipynb>data table notebook</a>'\n",
              "            + ' to learn more about interactive tables.';\n",
              "          element.innerHTML = '';\n",
              "          dataTable['output_type'] = 'display_data';\n",
              "          await google.colab.output.renderOutput(dataTable, element);\n",
              "          const docLink = document.createElement('div');\n",
              "          docLink.innerHTML = docLinkHtml;\n",
              "          element.appendChild(docLink);\n",
              "        }\n",
              "      </script>\n",
              "    </div>\n",
              "  </div>\n",
              "  "
            ]
          },
          "metadata": {},
          "execution_count": 20
        }
      ]
    },
    {
      "cell_type": "markdown",
      "source": [
        "The correlation coefficient close to 1 reveals a positive correlation between the data, if the correlation coefficient is close to -1 it expresses a negative correlation. For example, loan status has a strong correlation with credit history, and the lower the Coaplicant's salary, the lower the applicant's salary, as its correlation coefficient is close to -1."
      ],
      "metadata": {
        "id": "4BsYSRBxQ5oU"
      }
    },
    {
      "cell_type": "markdown",
      "source": [
        "Furthermore, we can look at the data in the form of a heat map."
      ],
      "metadata": {
        "id": "0qkaap3gfb52"
      }
    },
    {
      "cell_type": "code",
      "source": [
        "mask = np.triu(np.ones_like(Matrix_corr))\n",
        "\n",
        "f,ax = plt.subplots(figsize=(11,9))\n",
        "\n",
        "sns.heatmap(Matrix_corr,mask=mask,cmap=plt.get_cmap(\"cividis\"),center=0,square=True,linewidths=.5,cbar_kws={\"shrink\": .5})\n",
        "plt.show()"
      ],
      "metadata": {
        "id": "5xCZQnnjfceg",
        "colab": {
          "base_uri": "https://localhost:8080/",
          "height": 637
        },
        "outputId": "b9b314d5-af3d-403a-babf-6d8ecd5c812d"
      },
      "execution_count": 21,
      "outputs": [
        {
          "output_type": "display_data",
          "data": {
            "text/plain": [
              "<Figure size 792x648 with 2 Axes>"
            ],
            "image/png": "[encoded data removed]"
          },
          "metadata": {
            "needs_background": "light"
          }
        }
      ]
    },
    {
      "cell_type": "markdown",
      "source": [
        "The conclusions seem to be the same, and we note the strong relationship between credit history and loan status."
      ],
      "metadata": {
        "id": "ELUqZm1WuTzL"
      }
    },
    {
      "cell_type": "markdown",
      "source": [
        "### 9.2 - Creating New Data"
      ],
      "metadata": {
        "id": "fkhgyghPzPyi"
      }
    },
    {
      "cell_type": "markdown",
      "source": [
        "We will now make resource combinations to create new data."
      ],
      "metadata": {
        "id": "9I6YUtA4Wcfl"
      }
    },
    {
      "cell_type": "code",
      "source": [
        "def feature_engineering(data):\n",
        "  data['Total_Income'] = data['ApplicantIncome'] + data['CoapplicantIncome']\n",
        "  data['Loan_Term_per_T_Income'] = data['Loan_Amount_Term']/data['CoapplicantIncome'] #installments per couple or helpers\n",
        "  data['LoanA_per_Total_Income'] = data['LoanAmount']/data['CoapplicantIncome'] #Loan Amount by Total Income\n",
        "\n",
        "  return data"
      ],
      "metadata": {
        "id": "GZ-DpwTN3ZDJ"
      },
      "execution_count": 22,
      "outputs": []
    },
    {
      "cell_type": "code",
      "source": [
        "corr_m = feature_engineering(dataset2).corr() #TOTAL\n",
        "corr_m[\"Loan_Status\"].sort_values(ascending=False)"
      ],
      "metadata": {
        "id": "es9YDzp1cymu",
        "colab": {
          "base_uri": "https://localhost:8080/"
        },
        "outputId": "f5bae9df-7923-491e-e650-a477302cf6e2"
      },
      "execution_count": 23,
      "outputs": [
        {
          "output_type": "execute_result",
          "data": {
            "text/plain": [
              "Loan_Status               1.000000\n",
              "Credit_History            0.547335\n",
              "Property_Area             0.157239\n",
              "Education                 0.119663\n",
              "Married                   0.058268\n",
              "Loan_Term_per_T_Income    0.049667\n",
              "LoanA_per_Total_Income    0.048369\n",
              "Gender                    0.022654\n",
              "ApplicantIncome           0.010046\n",
              "Self_Employed             0.009393\n",
              "Loan_Amount_Term         -0.002759\n",
              "Total_Income             -0.014368\n",
              "LoanAmount               -0.031169\n",
              "CoapplicantIncome        -0.056199\n",
              "Name: Loan_Status, dtype: float64"
            ]
          },
          "metadata": {},
          "execution_count": 23
        }
      ]
    },
    {
      "cell_type": "code",
      "source": [
        "corr_m = feature_engineering(dataset2).corr()#Aplicant\n",
        "corr_m[\"Loan_Status\"].sort_values(ascending=False)"
      ],
      "metadata": {
        "colab": {
          "base_uri": "https://localhost:8080/"
        },
        "id": "H_ZOTh0LkD0K",
        "outputId": "1df59cae-54e6-4f90-98e4-5f1b0d1a3581"
      },
      "execution_count": 24,
      "outputs": [
        {
          "output_type": "execute_result",
          "data": {
            "text/plain": [
              "Loan_Status               1.000000\n",
              "Credit_History            0.547335\n",
              "Property_Area             0.157239\n",
              "Education                 0.119663\n",
              "Married                   0.058268\n",
              "Loan_Term_per_T_Income    0.049667\n",
              "LoanA_per_Total_Income    0.048369\n",
              "Gender                    0.022654\n",
              "ApplicantIncome           0.010046\n",
              "Self_Employed             0.009393\n",
              "Loan_Amount_Term         -0.002759\n",
              "Total_Income             -0.014368\n",
              "LoanAmount               -0.031169\n",
              "CoapplicantIncome        -0.056199\n",
              "Name: Loan_Status, dtype: float64"
            ]
          },
          "metadata": {},
          "execution_count": 24
        }
      ]
    },
    {
      "cell_type": "code",
      "source": [
        "corr_m = feature_engineering(dataset2).corr()#Coaplicant\n",
        "corr_m[\"Loan_Status\"].sort_values(ascending=False)"
      ],
      "metadata": {
        "colab": {
          "base_uri": "https://localhost:8080/"
        },
        "id": "9qcKziw74Qby",
        "outputId": "c54af46a-2829-4394-914c-85faea20ccac"
      },
      "execution_count": 25,
      "outputs": [
        {
          "output_type": "execute_result",
          "data": {
            "text/plain": [
              "Loan_Status               1.000000\n",
              "Credit_History            0.547335\n",
              "Property_Area             0.157239\n",
              "Education                 0.119663\n",
              "Married                   0.058268\n",
              "Loan_Term_per_T_Income    0.049667\n",
              "LoanA_per_Total_Income    0.048369\n",
              "Gender                    0.022654\n",
              "ApplicantIncome           0.010046\n",
              "Self_Employed             0.009393\n",
              "Loan_Amount_Term         -0.002759\n",
              "Total_Income             -0.014368\n",
              "LoanAmount               -0.031169\n",
              "CoapplicantIncome        -0.056199\n",
              "Name: Loan_Status, dtype: float64"
            ]
          },
          "metadata": {},
          "execution_count": 25
        }
      ]
    },
    {
      "cell_type": "markdown",
      "source": [
        "Although small, Loan Amount per Total Income is more closely tied to Loan Status than Loan Amount. Also, Loan amount Term per Total Income gives us more valuable information than Loan Amount Term. Similarly, Total Income is more closely associated with Loan Status than Applicant Income and Co-Applicant Income. The latter is undeniable, as the joint income of a couple is more relevant for the realization of a loan, than the income that only one person has, in this way, loans for people with lower wages tend to be accepted more frequently in our data. Dice. We arrive at the same statement as in section 8.\n"
      ],
      "metadata": {
        "id": "9um9F0GaqZg8"
      }
    },
    {
      "cell_type": "markdown",
      "source": [
        "Despite all this, we will not implement the model with this new data, as we have many values ​​that would give nan and zeros that divided would give nan."
      ],
      "metadata": {
        "id": "Z-cl49bRCap6"
      }
    },
    {
      "cell_type": "markdown",
      "source": [
        "### 9.3 Prepare the Data"
      ],
      "metadata": {
        "id": "xLMp91SpuX68"
      }
    },
    {
      "cell_type": "code",
      "source": [
        "dataset = strat_train_set.drop(\"Loan_Status\", axis=1) # drop labels for training set\n",
        "dataset_labels = strat_train_set[\"Loan_Status\"].copy()\n",
        "\n",
        "dataset_num = dataset.select_dtypes(include=[np.number])#only the numerical data"
      ],
      "metadata": {
        "id": "fItKjmGGvVvG"
      },
      "execution_count": 26,
      "outputs": []
    },
    {
      "cell_type": "markdown",
      "source": [
        "### 9.4 Transformations by Pipelines"
      ],
      "metadata": {
        "id": "rJombbcGfVgy"
      }
    },
    {
      "cell_type": "markdown",
      "source": [
        "As seen so far, our data has many imperfections, to remedy some of these limitations, we employ a pepilines transformation that sequentially employs several transformations and a final estimator.\n",
        "In our pipeline:\n",
        "\n",
        "\n",
        "1.  First, we fill in data that is missing from the database, with the median of the column;\n",
        "2.   We apply RobustScaler(), to remove out-of-curve points and scale data between 25% of the sample and 75% of the sample;\n",
        "3. Finally, we use the StandardScaler, which makes the features have similar weights, normalizing them through the elimination of the mean and scaling to the range of units.\n",
        "\n",
        "\n"
      ],
      "metadata": {
        "id": "hc4Gf3LJav4L"
      }
    },
    {
      "cell_type": "code",
      "source": [
        "from imblearn.pipeline import Pipeline\n",
        "from sklearn.preprocessing import StandardScaler\n",
        "from sklearn.preprocessing import RobustScaler\n",
        "\n",
        "num_pipeline = Pipeline([\n",
        "        ('imputer', SimpleImputer(strategy='median')),\n",
        "        ('rbscaler',RobustScaler()),\n",
        "        ('std_scaler', StandardScaler()),\n",
        "        \n",
        "    ])\n",
        "\n",
        "dataset_num_tr = num_pipeline.fit_transform(dataset_num)"
      ],
      "metadata": {
        "id": "_fEVugLxue3B"
      },
      "execution_count": 27,
      "outputs": []
    },
    {
      "cell_type": "code",
      "source": [
        "print(list(dataset_num))"
      ],
      "metadata": {
        "colab": {
          "base_uri": "https://localhost:8080/"
        },
        "id": "dol0wkfwO6J0",
        "outputId": "484b5fdc-f2b4-489f-dfc0-deff718f9262"
      },
      "execution_count": 28,
      "outputs": [
        {
          "output_type": "stream",
          "name": "stdout",
          "text": [
            "['ApplicantIncome', 'CoapplicantIncome', 'LoanAmount', 'Loan_Amount_Term', 'Credit_History']\n"
          ]
        }
      ]
    },
    {
      "cell_type": "markdown",
      "source": [
        "Later, we joined our numerical and categorical data through the ColumnTransformer and used the OneHotEncoder method, to transform words into numbers, as the models do not understand words, only numbers.\n",
        "We turn names into numbers such as labels that the pc understands.\n"
      ],
      "metadata": {
        "id": "HZGI8LyaiJnJ"
      }
    },
    {
      "cell_type": "code",
      "source": [
        "from sklearn.compose import ColumnTransformer\n",
        "from sklearn.preprocessing import OneHotEncoder\n",
        "\n",
        "\n",
        "num_attribs = list(dataset_num)\n",
        "cat_attribs = ['Gender','Married','Dependents','Education','Self_Employed','Property_Area']\n",
        "\n",
        "full_pipeline = ColumnTransformer([\n",
        "        (\"num\", num_pipeline, num_attribs),\n",
        "        (\"cat\", OneHotEncoder(), cat_attribs)\n",
        "    ])\n",
        "\n",
        "\n",
        "dataset_before = full_pipeline.fit_transform(dataset)"
      ],
      "metadata": {
        "id": "-U9OKopsv0ko"
      },
      "execution_count": 29,
      "outputs": []
    },
    {
      "cell_type": "markdown",
      "source": [
        "Finally, we apply the SMOTE() method, which oversamples the minority class and balances the distribution of classes, despite not providing additional content to the model."
      ],
      "metadata": {
        "id": "eeaO-xdijyon"
      }
    },
    {
      "cell_type": "code",
      "source": [
        "from imblearn.over_sampling import SMOTE\n",
        "\n",
        "\n",
        "dataset_prepared, dataset_labels = SMOTE().fit_resample(dataset_before, dataset_labels)"
      ],
      "metadata": {
        "id": "E3JptqfGoGzL"
      },
      "execution_count": 30,
      "outputs": []
    },
    {
      "cell_type": "markdown",
      "source": [
        "## 10 - Choose and Train The Model"
      ],
      "metadata": {
        "id": "wO3CagVMFfSI"
      }
    },
    {
      "cell_type": "markdown",
      "source": [
        "Now let's train some models and try to find the best one, as soon as we find the best model I'll give more explanations about it. I'll start with the model Kernelized Support Vector Machines can be used for both regression and classification. I will use the evaluation metric called ROC curve and then explain more about it"
      ],
      "metadata": {
        "id": "LDx3TGqHJKQu"
      }
    },
    {
      "cell_type": "code",
      "source": [
        "from sklearn.model_selection import cross_val_predict\n",
        "from sklearn.svm import SVC\n",
        "from sklearn.metrics import roc_curve,auc\n",
        "\n",
        "#model\n",
        "modelOne = SVC(kernel='sigmoid',max_iter=1e4,random_state=42).fit(dataset_prepared,dataset_labels)\n",
        "modelOne.fit(dataset_prepared, dataset_labels)\n",
        "\n",
        "#we create an estimate that uses a cross-validation in one by one  of the input data points\n",
        "y_scores = cross_val_predict(modelOne, dataset_prepared, dataset_labels, cv=3,\n",
        "                             method=\"decision_function\")\n",
        "\n",
        "#we calculate the ROC\n",
        "fpr, tpr, thresholds = roc_curve(dataset_labels, y_scores)\n",
        "\n",
        "#and the area under the curve \n",
        "roc_auc_lr = auc(fpr, tpr)\n",
        "\n",
        "print(\"Area\",roc_auc_lr) #the higher the value the better"
      ],
      "metadata": {
        "colab": {
          "base_uri": "https://localhost:8080/"
        },
        "id": "HB4m9ZYyKG7X",
        "outputId": "35277ebf-c3a1-49b6-fa5f-49038defd5d0"
      },
      "execution_count": 31,
      "outputs": [
        {
          "output_type": "stream",
          "name": "stdout",
          "text": [
            "Area 0.6555179371430525\n"
          ]
        }
      ]
    },
    {
      "cell_type": "markdown",
      "source": [
        "Let's try the logistic regression model,"
      ],
      "metadata": {
        "id": "5uoI2ZEWM_z9"
      }
    },
    {
      "cell_type": "code",
      "source": [
        "from sklearn.linear_model import LogisticRegression\n",
        "\n",
        "modelTwo = LogisticRegression(random_state=42).fit(dataset_prepared, dataset_labels)\n",
        "modelTwo.fit(dataset_prepared, dataset_labels)\n",
        "\n",
        "#we do the same as before\n",
        "y_scores = cross_val_predict(modelTwo , dataset_prepared, dataset_labels, cv=3,\n",
        "                             method=\"decision_function\")\n",
        "\n",
        "fpr, tpr, thresholds = roc_curve(dataset_labels, y_scores)\n",
        "\n",
        "roc_auc_lr = auc(fpr, tpr)\n",
        "\n",
        "print(\"Area\",roc_auc_lr)"
      ],
      "metadata": {
        "colab": {
          "base_uri": "https://localhost:8080/"
        },
        "id": "Z0gLPLtJM_R2",
        "outputId": "0e7edab2-65f0-4c15-ebd4-1123e000c9b7"
      },
      "execution_count": 32,
      "outputs": [
        {
          "output_type": "stream",
          "name": "stdout",
          "text": [
            "Area 0.7702455456379741\n"
          ]
        }
      ]
    },
    {
      "cell_type": "markdown",
      "source": [
        "We will also test Random Forest Classifier."
      ],
      "metadata": {
        "id": "a-Z-_lrJNYsc"
      }
    },
    {
      "cell_type": "code",
      "source": [
        "from sklearn.ensemble import RandomForestClassifier\n",
        "\n",
        "modelThree = RandomForestClassifier(random_state = 42)\n",
        "modelThree.fit(dataset_prepared, dataset_labels)\n",
        "\n",
        "\n",
        "#we use the predict_proba method\n",
        "y_scores_proba = cross_val_predict(modelThree, dataset_prepared, dataset_labels, cv=3,\n",
        "                             method=\"predict_proba\")\n",
        "\n",
        "y_scores = y_scores_proba[:,1]\n",
        "\n",
        "fpr, tpr, thresholds = roc_curve(dataset_labels, y_scores)\n",
        "\n",
        "roc_auc_lr = auc(fpr, tpr)\n",
        "\n",
        "print(\"Area\",roc_auc_lr)"
      ],
      "metadata": {
        "colab": {
          "base_uri": "https://localhost:8080/"
        },
        "id": "rAI0VsRUNYIg",
        "outputId": "169dd93b-3530-4194-c2ce-7d7341f23eab"
      },
      "execution_count": 33,
      "outputs": [
        {
          "output_type": "stream",
          "name": "stdout",
          "text": [
            "Area 0.8925695085667384\n"
          ]
        }
      ]
    },
    {
      "cell_type": "markdown",
      "source": [
        "The latter is unfeasible, as it overfits. We can see this by the following assessment:"
      ],
      "metadata": {
        "id": "FSuslLZdN5vB"
      }
    },
    {
      "cell_type": "code",
      "source": [
        "print('Accuracy of  RandomForestClassifier classifier on training set: {:.2f}'\n",
        "     .format(modelThree.score(dataset_prepared, dataset_labels)))"
      ],
      "metadata": {
        "colab": {
          "base_uri": "https://localhost:8080/"
        },
        "id": "bMBkPFlIaqB0",
        "outputId": "e4056d4e-604e-49ac-f877-de6f4fd5513a"
      },
      "execution_count": 34,
      "outputs": [
        {
          "output_type": "stream",
          "name": "stdout",
          "text": [
            "Accuracy of  RandomForestClassifier classifier on training set: 1.00\n"
          ]
        }
      ]
    },
    {
      "cell_type": "markdown",
      "source": [
        "Now we will try to test the k-nearest neighbor mode."
      ],
      "metadata": {
        "id": "TYU_YbE4a2I7"
      }
    },
    {
      "cell_type": "code",
      "source": [
        "from sklearn.neighbors import KNeighborsClassifier\n",
        "\n",
        "clf = KNeighborsClassifier(n_neighbors = 15)\n",
        "\n",
        "clf.fit(dataset_prepared, dataset_labels)\n",
        "\n",
        "#we use the predict_proba method\n",
        "y_scores_proba = cross_val_predict(clf, dataset_prepared, dataset_labels, cv=3,\n",
        "                             method=\"predict_proba\")\n",
        "\n",
        "y_scores = y_scores_proba[:,1]\n",
        "\n",
        "fpr, tpr, thresholds = roc_curve(dataset_labels, y_scores)\n",
        "\n",
        "roc_auc_lr = auc(fpr, tpr)\n",
        "\n",
        "print(\"Area\",roc_auc_lr)"
      ],
      "metadata": {
        "colab": {
          "base_uri": "https://localhost:8080/"
        },
        "id": "T30DTOrLOkmh",
        "outputId": "5cbe3824-2f50-40d2-83e6-ac0224a1abe4"
      },
      "execution_count": 35,
      "outputs": [
        {
          "output_type": "stream",
          "name": "stdout",
          "text": [
            "Area 0.8078297595841455\n"
          ]
        }
      ]
    },
    {
      "cell_type": "markdown",
      "source": [
        "It seems that the k-nearest neighbors algorithm is the best, so let's explain it. In the k-nearest neighbor model, objects are classified according to the plural vote of their neighbors, where each object is assigned the most similar class among its k-nearest neighbors. "
      ],
      "metadata": {
        "id": "qF4IhHyh0tCs"
      }
    },
    {
      "cell_type": "markdown",
      "source": [
        "Our algorithm is already qualified, however, we will search for several hyperparameters to be tested in our model using cross validation. For this purpose we will use the grid search."
      ],
      "metadata": {
        "id": "lPgRqE9sO6I9"
      }
    },
    {
      "cell_type": "code",
      "source": [
        "from sklearn.model_selection import GridSearchCV\n",
        "\n",
        "grid_params = {\n",
        "    'n_neighbors' : [3,5,7,9,11,13,15],\n",
        "    'weights' : ['uniform','distance'],\n",
        "    'metric' : ['minkowski','euclidean','manhattan'],\n",
        "    'algorithm' : ['auto', 'ball_tree', 'kd_tree', 'brute'],\n",
        "}\n",
        "\n",
        "gs = GridSearchCV(\n",
        "    KNeighborsClassifier(),\n",
        "    grid_params,\n",
        "    verbose = 1,\n",
        "    cv=3,\n",
        "    n_jobs = -1,\n",
        "    scoring='roc_auc'\n",
        ")\n",
        "\n",
        "clf = gs.fit(dataset_prepared, dataset_labels)\n",
        "\n",
        "print('score: {:.3f}'\n",
        "     .format(clf.score(dataset_prepared, dataset_labels)))"
      ],
      "metadata": {
        "colab": {
          "base_uri": "https://localhost:8080/"
        },
        "id": "7szAoWxzOu96",
        "outputId": "be8b38ee-8f73-48de-c268-6fb109934592"
      },
      "execution_count": 36,
      "outputs": [
        {
          "output_type": "stream",
          "name": "stdout",
          "text": [
            "Fitting 3 folds for each of 168 candidates, totalling 504 fits\n",
            "score: 1.000\n"
          ]
        }
      ]
    },
    {
      "cell_type": "markdown",
      "source": [
        "We found the best parameters:"
      ],
      "metadata": {
        "id": "Y5nYJRv2ZcXy"
      }
    },
    {
      "cell_type": "code",
      "source": [
        "print(f'Best parameters: {clf.best_params_}')\n",
        "print(f'Best score: {clf.best_score_}')"
      ],
      "metadata": {
        "colab": {
          "base_uri": "https://localhost:8080/"
        },
        "id": "VvWS5sAdO9Jy",
        "outputId": "60e9fc7b-d4dc-4e35-a971-04b215b40125"
      },
      "execution_count": null,
      "outputs": [
        {
          "output_type": "stream",
          "name": "stdout",
          "text": [
            "Best parameters: {'algorithm': 'auto', 'metric': 'manhattan', 'n_neighbors': 7, 'weights': 'distance'}\n",
            "Best score: 0.8828100954139736\n"
          ]
        }
      ]
    },
    {
      "cell_type": "markdown",
      "source": [
        "Although our model is good, it is overfitting , which is basically learning very well but only the training data, i.e. it's like our model is biased in the training data, and when it comes across new data, it won't behave well then I will apply n_neighbors = 15."
      ],
      "metadata": {
        "id": "in_4PWo0EIyg"
      }
    },
    {
      "cell_type": "code",
      "source": [
        "clf = KNeighborsClassifier(n_neighbors = 15)\n",
        "\n",
        "clf.fit(dataset_prepared, dataset_labels)"
      ],
      "metadata": {
        "id": "_n_TcT-7EIBh",
        "colab": {
          "base_uri": "https://localhost:8080/"
        },
        "outputId": "48b36028-0a4c-4d58-fb98-a2c4baea50b8"
      },
      "execution_count": 37,
      "outputs": [
        {
          "output_type": "execute_result",
          "data": {
            "text/plain": [
              "KNeighborsClassifier(n_neighbors=15)"
            ]
          },
          "metadata": {},
          "execution_count": 37
        }
      ]
    },
    {
      "cell_type": "markdown",
      "source": [
        "For a quick evaluation of the model, we used the precision and recall, the recal is the fraction of all positive instances that the classifier correctly identified as being positive. The precision is the fraction of correctly performed positive predictions."
      ],
      "metadata": {
        "id": "vnB8N3nLgRQS"
      }
    },
    {
      "cell_type": "code",
      "source": [
        "from sklearn.metrics import precision_score\n",
        "from sklearn.metrics import recall_score\n",
        "\n",
        "\n",
        "dataset_predictions = clf.predict(dataset_prepared)\n",
        "\n",
        "precision = precision_score(dataset_labels, dataset_predictions)\n",
        "\n",
        "recall = recall_score(dataset_labels, dataset_predictions)\n",
        "\n",
        "print(\"Recall\", recall, \"precision\", precision)"
      ],
      "metadata": {
        "id": "KdeIfKaqJnBL",
        "colab": {
          "base_uri": "https://localhost:8080/"
        },
        "outputId": "740127a9-2205-48eb-bf6b-585857b0c37a"
      },
      "execution_count": 57,
      "outputs": [
        {
          "output_type": "stream",
          "name": "stdout",
          "text": [
            "Recall 0.7573099415204678 precision 0.7617647058823529\n"
          ]
        }
      ]
    },
    {
      "cell_type": "markdown",
      "source": [
        "Our model is good, because the closer to one is better."
      ],
      "metadata": {
        "id": "3iCjUhMZL-vW"
      }
    },
    {
      "cell_type": "markdown",
      "source": [
        "## 11 - Evaluation method in TRAINING SET"
      ],
      "metadata": {
        "id": "1G1wn2zmN0bM"
      }
    },
    {
      "cell_type": "markdown",
      "source": [
        "Now we will evaluate our model by applying the roc_curve curve and the auc value. The ROC curve describes the true positive rate by the false positive rate. In our case, we aim to have a high rate of true positives, as we would like to know the individuals who should receive the loan. The AUC value ranges from 0 to 1, and the closer to 1, the better are our estimates.\n"
      ],
      "metadata": {
        "id": "kthSalzri4dP"
      }
    },
    {
      "cell_type": "markdown",
      "source": [
        "To have a ROC curve we need something to use as a reference in our decision threshold, what we use is the score, which if it is greater than the threshold it conceives the instance in the positive class, otherwise not. To get the scores of the instances, we use the cross_val_predict method."
      ],
      "metadata": {
        "id": "t7gDv2Q8lfk0"
      }
    },
    {
      "cell_type": "code",
      "source": [
        "#we will do the same evaluation again, however, now we will make a graph to visualize better\n",
        "from sklearn.model_selection import cross_val_predict \n",
        "\n",
        "y_scores_proba = cross_val_predict(clf, dataset_prepared, dataset_labels, cv=3,\n",
        "                             method=\"predict_proba\")\n",
        "\n",
        "y_scores = y_scores_proba[:,1]"
      ],
      "metadata": {
        "id": "sL7UEfrKQumW"
      },
      "execution_count": 39,
      "outputs": []
    },
    {
      "cell_type": "markdown",
      "source": [
        "Having the scores in hand, we check recall and accuracy."
      ],
      "metadata": {
        "id": "MRuMfVwpoBcF"
      }
    },
    {
      "cell_type": "code",
      "source": [
        "from sklearn.metrics import roc_curve,auc\n",
        "\n",
        "pr, rec, thresholds = roc_curve(dataset_labels, y_scores)"
      ],
      "metadata": {
        "id": "IKzhMawXkVwc"
      },
      "execution_count": 40,
      "outputs": []
    },
    {
      "cell_type": "markdown",
      "source": [
        "Finally we plot the graph:"
      ],
      "metadata": {
        "id": "UuzFpfLhsGCM"
      }
    },
    {
      "cell_type": "code",
      "source": [
        "roc_auc_lr = auc(pr, rec)\n",
        "\n",
        "fig, ax = plt.subplots(1, figsize= (8,6))\n",
        "ax.set_aspect('equal') \n",
        "plt.xlim([-0.01, 1.00])\n",
        "plt.ylim([-0.01, 1.01])\n",
        "\n",
        "\n",
        "#plots the roc curve, with its coordinates \n",
        "plt.plot(pr, rec, lw=3, label='ROC curve (area = {:0.2f})'.format(roc_auc_lr))\n",
        "\n",
        "plt.xlabel('False Positive Rate', fontsize=16)\n",
        "plt.ylabel('True Positive Rate', fontsize=16)\n",
        "plt.title('ROC curve (1-of-10 digits classifier)', fontsize=16)\n",
        "plt.legend(loc='lower right', fontsize=13)\n",
        "\n",
        "#plots a list of values ​​that goes from zero to one, and how x = y is plotted a 45 degree line\n",
        "plt.plot([0, 1], [0, 1], color='navy', lw=3, linestyle='--')#plot the stippling\n",
        "\n",
        "plt.show()"
      ],
      "metadata": {
        "id": "vmyjq_-ZlGtO",
        "colab": {
          "base_uri": "https://localhost:8080/",
          "height": 414
        },
        "outputId": "c4a79bd7-93de-426d-df05-dfb87c16bbec"
      },
      "execution_count": 41,
      "outputs": [
        {
          "output_type": "display_data",
          "data": {
            "text/plain": [
              "<Figure size 576x432 with 1 Axes>"
            ],
            "image/png": "[encoded data removed]"
          },
          "metadata": {
            "needs_background": "light"
          }
        }
      ]
    },
    {
      "cell_type": "markdown",
      "source": [
        "## 12 - Implementation in Test Set"
      ],
      "metadata": {
        "id": "TqHY9u4uP5mR"
      }
    },
    {
      "cell_type": "markdown",
      "source": [
        "Finally, we do the same procedure as before, only now in our test set."
      ],
      "metadata": {
        "id": "Zhc5h8jKsM-P"
      }
    },
    {
      "cell_type": "code",
      "source": [
        "from sklearn.metrics import mean_squared_error\n",
        "\n",
        "#training and testing division\n",
        "X_test = strat_test_set.drop(\"Loan_Status\", axis=1)\n",
        "y_test = strat_test_set[\"Loan_Status\"].copy()\n",
        "\n",
        "#I applied the transformation\n",
        "X_test_prepared = full_pipeline.transform(X_test)\n",
        "\n",
        "#I made the prediction\n",
        "final_predictions = clf.predict(X_test_prepared)\n",
        "\n",
        "\n",
        "#evaluation\n",
        "precision = precision_score(y_test,final_predictions)\n",
        "\n",
        "recall = recall_score(y_test, final_predictions)\n",
        "\n",
        "print(\"Recall\", recall, \"precision\", precision)"
      ],
      "metadata": {
        "id": "FwihpFFlP8UC",
        "colab": {
          "base_uri": "https://localhost:8080/"
        },
        "outputId": "4d993539-a0ff-4595-c6a8-0d7e9b8001e3"
      },
      "execution_count": 61,
      "outputs": [
        {
          "output_type": "stream",
          "name": "stdout",
          "text": [
            "Recall 0.675 precision 0.7297297297297297\n"
          ]
        }
      ]
    },
    {
      "cell_type": "code",
      "source": [
        "from sklearn.model_selection import cross_val_predict\n",
        "\n",
        "y_scores_proba = cross_val_predict(clf, X_test_prepared, y_test, cv=3,\n",
        "                             method=\"predict_proba\")\n",
        "\n",
        "\n",
        "y_scores = y_scores_proba[:,1]"
      ],
      "metadata": {
        "id": "G4ow-TwuPZZZ"
      },
      "execution_count": 44,
      "outputs": []
    },
    {
      "cell_type": "code",
      "source": [
        "from sklearn.metrics import roc_curve,auc\n",
        "\n",
        "pr, rec, thresholds = roc_curve(y_test, y_scores)"
      ],
      "metadata": {
        "id": "G93i0GenPZZa"
      },
      "execution_count": 45,
      "outputs": []
    },
    {
      "cell_type": "code",
      "source": [
        "roc_auc_lr = auc(pr, rec)\n",
        "\n",
        "fig, ax = plt.subplots(1, figsize= (8,6))\n",
        "ax.set_aspect('equal') \n",
        "plt.xlim([-0.01, 1.00])\n",
        "plt.ylim([-0.01, 1.01])\n",
        "\n",
        "\n",
        "#plots the roc curve, with its coordinates\n",
        "plt.plot(pr, rec, lw=3, label='ROC curve (area = {:0.2f})'.format(roc_auc_lr))\n",
        "\n",
        "plt.xlabel('False Positive Rate', fontsize=16)\n",
        "plt.ylabel('True Positive Rate', fontsize=16)\n",
        "plt.title('ROC curve (1-of-10 digits classifier)', fontsize=16)\n",
        "plt.legend(loc='lower right', fontsize=13)\n",
        "\n",
        "#plots a list of values ​​that goes from zero to one, and how x = y is plotted a 45 degree line\n",
        "plt.plot([0, 1], [0, 1], color='navy', lw=3, linestyle='--') #plot the stippling\n",
        "\n",
        "plt.show()"
      ],
      "metadata": {
        "id": "5F38m85IPZZb",
        "colab": {
          "base_uri": "https://localhost:8080/",
          "height": 414
        },
        "outputId": "506af624-b4d9-4364-a5cf-7ae6745afb24"
      },
      "execution_count": 46,
      "outputs": [
        {
          "output_type": "display_data",
          "data": {
            "text/plain": [
              "<Figure size 576x432 with 1 Axes>"
            ],
            "image/png": "[encoded data removed]"
          },
          "metadata": {
            "needs_background": "light"
          }
        }
      ]
    },
    {
      "cell_type": "markdown",
      "source": [
        "Our model is great."
      ],
      "metadata": {
        "id": "-pVXqWU2t_8v"
      }
    },
    {
      "cell_type": "markdown",
      "source": [
        "## 13 - To Deploy"
      ],
      "metadata": {
        "id": "o8I97JdS-tR3"
      }
    },
    {
      "cell_type": "markdown",
      "metadata": {
        "id": "vgL6wblpQUtX"
      },
      "source": [
        "### 13.1 - Saving the trained model"
      ]
    },
    {
      "cell_type": "markdown",
      "source": [
        "Now let's save the model, to deploy it later."
      ],
      "metadata": {
        "id": "E5Amj7syIh4s"
      }
    },
    {
      "cell_type": "code",
      "metadata": {
        "id": "Nn60MdxByjgz"
      },
      "source": [
        "import pickle"
      ],
      "execution_count": 47,
      "outputs": []
    },
    {
      "cell_type": "markdown",
      "source": [
        "We use a dump method, which takes the clf model as an input and writes our classifier in binary to the file \"wb\"."
      ],
      "metadata": {
        "id": "Slc2-acB4yrv"
      }
    },
    {
      "cell_type": "code",
      "metadata": {
        "id": "cWzPQs4mQZN_"
      },
      "source": [
        "filename = 'trained_model.sav'\n",
        "pickle.dump(clf, open(filename, 'wb'))"
      ],
      "execution_count": 48,
      "outputs": []
    },
    {
      "cell_type": "markdown",
      "source": [
        "loading the saved model"
      ],
      "metadata": {
        "id": "eMYfagAuRY21"
      }
    },
    {
      "cell_type": "code",
      "metadata": {
        "id": "Wk1T2sMcQ6_U"
      },
      "source": [
        "loaded_model = pickle.load(open('trained_model.sav', 'rb'))"
      ],
      "execution_count": 49,
      "outputs": []
    }
  ]
}
